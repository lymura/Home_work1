{
  "nbformat": 4,
  "nbformat_minor": 0,
  "metadata": {
    "colab": {
      "name": "lesson3_1_1.ipynb",
      "provenance": [],
      "authorship_tag": "ABX9TyPEL4gNwDNpUfIKOoYNf6mc",
      "include_colab_link": true
    },
    "kernelspec": {
      "name": "python3",
      "display_name": "Python 3"
    },
    "language_info": {
      "name": "python"
    }
  },
  "cells": [
    {
      "cell_type": "markdown",
      "metadata": {
        "id": "view-in-github",
        "colab_type": "text"
      },
      "source": [
        "<a href=\"https://colab.research.google.com/github/lymura/Home_work1/blob/main/lesson3_1_1.ipynb\" target=\"_parent\"><img src=\"https://colab.research.google.com/assets/colab-badge.svg\" alt=\"Open In Colab\"/></a>"
      ]
    },
    {
      "cell_type": "code",
      "metadata": {
        "colab": {
          "base_uri": "https://localhost:8080/"
        },
        "id": "1GTxXbFX2gsQ",
        "outputId": "eac2465f-1578-4f33-b75d-1bfcb1c3cc0a"
      },
      "source": [
        "#рассчитать длину вектора\n",
        "%matplotlib inline\n",
        " \n",
        "import numpy as np\n",
        "import matplotlib.pyplot as plt\n",
        "import math\n",
        "list_1 = np.array([10,10,10])\n",
        "list_2 = np.array([0,-10,0])\n",
        "list = list_1 + list_2\n",
        "n=np.linalg.norm(list)\n",
        "print(n)\n",
        "\n"
      ],
      "execution_count": 2,
      "outputs": [
        {
          "output_type": "stream",
          "name": "stdout",
          "text": [
            "14.142135623730951\n"
          ]
        }
      ]
    }
  ]
}