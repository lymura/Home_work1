{
  "nbformat": 4,
  "nbformat_minor": 0,
  "metadata": {
    "colab": {
      "name": "lesson3_1.ipynb",
      "provenance": [],
      "authorship_tag": "ABX9TyMdCmsY7MHPUBwCVtuvo/6A",
      "include_colab_link": true
    },
    "kernelspec": {
      "name": "python3",
      "display_name": "Python 3"
    },
    "language_info": {
      "name": "python"
    }
  },
  "cells": [
    {
      "cell_type": "markdown",
      "metadata": {
        "id": "view-in-github",
        "colab_type": "text"
      },
      "source": [
        "<a href=\"https://colab.research.google.com/github/lymura/Home_work1/blob/main/lesson3_1.ipynb\" target=\"_parent\"><img src=\"https://colab.research.google.com/assets/colab-badge.svg\" alt=\"Open In Colab\"/></a>"
      ]
    },
    {
      "cell_type": "code",
      "metadata": {
        "id": "RN4m-mjMsYS3",
        "colab": {
          "base_uri": "https://localhost:8080/"
        },
        "outputId": "5370d6d6-e213-4f90-e7f7-fb7263f2bbb2"
      },
      "source": [
        "#рассчитать длину вектора\n",
        "%matplotlib inline\n",
        " \n",
        "import numpy as np\n",
        "import matplotlib.pyplot as plt\n",
        "import math\n",
        "list_1 = np.array([10,0,10])\n",
        "n=np.linalg.norm(list_1)\n",
        "print(n)\n",
        "\n"
      ],
      "execution_count": 2,
      "outputs": [
        {
          "output_type": "stream",
          "name": "stdout",
          "text": [
            "14.142135623730951\n"
          ]
        }
      ]
    }
  ]
}