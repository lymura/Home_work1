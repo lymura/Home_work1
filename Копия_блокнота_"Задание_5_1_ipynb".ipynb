{
  "nbformat": 4,
  "nbformat_minor": 0,
  "metadata": {
    "colab": {
      "name": "Копия блокнота \"Задание 5_1.ipynb\"",
      "provenance": [],
      "authorship_tag": "ABX9TyN0/n/y3qZn14BHHKHY7/A9",
      "include_colab_link": true
    },
    "kernelspec": {
      "name": "python3",
      "display_name": "Python 3"
    },
    "language_info": {
      "name": "python"
    }
  },
  "cells": [
    {
      "cell_type": "markdown",
      "metadata": {
        "id": "view-in-github",
        "colab_type": "text"
      },
      "source": [
        "<a href=\"https://colab.research.google.com/github/lymura/Home_work1/blob/main/%D0%9A%D0%BE%D0%BF%D0%B8%D1%8F_%D0%B1%D0%BB%D0%BE%D0%BA%D0%BD%D0%BE%D1%82%D0%B0_%22%D0%97%D0%B0%D0%B4%D0%B0%D0%BD%D0%B8%D0%B5_5_1_ipynb%22.ipynb\" target=\"_parent\"><img src=\"https://colab.research.google.com/assets/colab-badge.svg\" alt=\"Open In Colab\"/></a>"
      ]
    },
    {
      "cell_type": "code",
      "metadata": {
        "colab": {
          "base_uri": "https://localhost:8080/"
        },
        "id": "QjQTFuqbVEvi",
        "outputId": "792fdf83-d44d-4bb8-ee2d-3fdc64246a65"
      },
      "source": [
        "%matplotlib inline\n",
        "import numpy as np\n",
        "win = 0\n",
        "loose = 0\n",
        "for i in range(0, 10):\n",
        " # a = input()\n",
        "  ball = np.random.uniform(1, 37)\n",
        "  #if num >= 37:\n",
        "  #  print(\"zero\")\n",
        "  if ball <19:\n",
        "        print(\"red\")\n",
        "        win += 1 \n",
        "  else:\n",
        "        print(\"black\")\n",
        "        loose  +=1\n",
        "print(\"Выиграно ставок: \" + str(win))\n",
        "print"
      ],
      "execution_count": null,
      "outputs": [
        {
          "output_type": "stream",
          "name": "stdout",
          "text": [
            "black\n",
            "black\n",
            "red\n",
            "red\n",
            "red\n",
            "black\n",
            "red\n",
            "red\n",
            "black\n",
            "red\n",
            "Выиграно ставок: 6\n"
          ]
        },
        {
          "output_type": "execute_result",
          "data": {
            "text/plain": [
              "<function print>"
            ]
          },
          "metadata": {},
          "execution_count": 1
        }
      ]
    }
  ]
}